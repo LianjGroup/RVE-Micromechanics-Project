{
 "cells": [
  {
   "cell_type": "code",
   "execution_count": 7,
   "metadata": {},
   "outputs": [],
   "source": [
    "import pandas as pd\n",
    "import glob"
   ]
  },
  {
   "cell_type": "code",
   "execution_count": 10,
   "metadata": {},
   "outputs": [
    {
     "name": "stdout",
     "output_type": "stream",
     "text": [
      "5.csv\n",
      "2932\n"
     ]
    }
   ],
   "source": [
    "csv_file = glob.glob(f'*.csv')[0]\n",
    "print(csv_file)\n",
    "# Read the CSV file with pandas\n",
    "df = pd.read_csv(csv_file, nrows=1, header=None)\n",
    "\n",
    "# Extract the number from the first line\n",
    "number = df.iloc[0, 0]\n",
    "\n",
    "print(number)"
   ]
  }
 ],
 "metadata": {
  "kernelspec": {
   "display_name": "Python 3",
   "language": "python",
   "name": "python3"
  },
  "language_info": {
   "codemirror_mode": {
    "name": "ipython",
    "version": 3
   },
   "file_extension": ".py",
   "mimetype": "text/x-python",
   "name": "python",
   "nbconvert_exporter": "python",
   "pygments_lexer": "ipython3",
   "version": "3.11.3"
  },
  "orig_nbformat": 4
 },
 "nbformat": 4,
 "nbformat_minor": 2
}
